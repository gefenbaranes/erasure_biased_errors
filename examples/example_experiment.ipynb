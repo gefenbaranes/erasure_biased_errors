{
 "cells": [
  {
   "cell_type": "markdown",
   "metadata": {},
   "source": [
    "### Example without loss:"
   ]
  },
  {
   "cell_type": "code",
   "execution_count": 1,
   "metadata": {},
   "outputs": [
    {
     "ename": "TimeoutError",
     "evalue": "[Errno 60] Operation timed out",
     "output_type": "error",
     "traceback": [
      "\u001b[0;31m---------------------------------------------------------------------------\u001b[0m",
      "\u001b[0;31mTimeoutError\u001b[0m                              Traceback (most recent call last)",
      "\u001b[0;32m/var/folders/kh/9b4nnp7x0s7c1fp6wn1qhrnm0000gn/T/ipykernel_78697/3874186936.py\u001b[0m in \u001b[0;36m<module>\u001b[0;34m\u001b[0m\n\u001b[0;32m----> 1\u001b[0;31m \u001b[0;32mfrom\u001b[0m \u001b[0mBiasedErasure\u001b[0m\u001b[0;34m.\u001b[0m\u001b[0mdelayed_erasure_decoders\u001b[0m\u001b[0;34m.\u001b[0m\u001b[0mExperimental_Loss_Decoder\u001b[0m \u001b[0;32mimport\u001b[0m \u001b[0;34m*\u001b[0m\u001b[0;34m\u001b[0m\u001b[0;34m\u001b[0m\u001b[0m\n\u001b[0m\u001b[1;32m      2\u001b[0m \u001b[0;34m\u001b[0m\u001b[0m\n\u001b[1;32m      3\u001b[0m Meta_params = {'architecture': 'CBQC', 'code': 'Rotated_Surface', 'logical_basis': 'Z', 'bias_preserving_gates': 'False', \n\u001b[1;32m      4\u001b[0m         \u001b[0;34m'noise'\u001b[0m\u001b[0;34m:\u001b[0m \u001b[0;34m'atom_array'\u001b[0m\u001b[0;34m,\u001b[0m \u001b[0;34m'is_erasure_biased'\u001b[0m\u001b[0;34m:\u001b[0m \u001b[0;34m'False'\u001b[0m\u001b[0;34m,\u001b[0m \u001b[0;34m'LD_freq'\u001b[0m\u001b[0;34m:\u001b[0m \u001b[0;34m'1'\u001b[0m\u001b[0;34m,\u001b[0m \u001b[0;34m'LD_method'\u001b[0m\u001b[0;34m:\u001b[0m \u001b[0;34m'FREE'\u001b[0m\u001b[0;34m,\u001b[0m \u001b[0;34m'SSR'\u001b[0m\u001b[0;34m:\u001b[0m \u001b[0;34m'True'\u001b[0m\u001b[0;34m,\u001b[0m \u001b[0;34m'cycles'\u001b[0m\u001b[0;34m:\u001b[0m \u001b[0;34m'2'\u001b[0m\u001b[0;34m,\u001b[0m \u001b[0;34m'ordering'\u001b[0m\u001b[0;34m:\u001b[0m \u001b[0;34m'bad'\u001b[0m\u001b[0;34m,\u001b[0m \u001b[0;34m'decoder'\u001b[0m\u001b[0;34m:\u001b[0m \u001b[0;34m'MWPM'\u001b[0m\u001b[0;34m,\u001b[0m\u001b[0;34m\u001b[0m\u001b[0;34m\u001b[0m\u001b[0m\n\u001b[1;32m      5\u001b[0m         'circuit_type': 'memory', 'Steane_type': 'regular', 'printing': 'True', 'num_logicals': '1', 'loss_decoder': 'independent'}\n",
      "\u001b[0;32m~/local_erasure_biased_errors/BiasedErasure/__init__.py\u001b[0m in \u001b[0;36m<module>\u001b[0;34m\u001b[0m\n\u001b[0;32m----> 1\u001b[0;31m \u001b[0;32mimport\u001b[0m \u001b[0mBiasedErasure\u001b[0m\u001b[0;34m.\u001b[0m\u001b[0mdelayed_erasure_decoders\u001b[0m\u001b[0;34m\u001b[0m\u001b[0;34m\u001b[0m\u001b[0m\n\u001b[0m\u001b[1;32m      2\u001b[0m \u001b[0;32mimport\u001b[0m \u001b[0mBiasedErasure\u001b[0m\u001b[0;34m.\u001b[0m\u001b[0mmain_code\u001b[0m\u001b[0;34m\u001b[0m\u001b[0;34m\u001b[0m\u001b[0m\n",
      "\u001b[0;32m~/local_erasure_biased_errors/BiasedErasure/delayed_erasure_decoders/__init__.py\u001b[0m in \u001b[0;36m<module>\u001b[0;34m\u001b[0m\n\u001b[0;32m----> 1\u001b[0;31m \u001b[0;32mfrom\u001b[0m \u001b[0;34m.\u001b[0m \u001b[0;32mimport\u001b[0m \u001b[0mExperimental_Loss_Decoder\u001b[0m\u001b[0;34m\u001b[0m\u001b[0;34m\u001b[0m\u001b[0m\n\u001b[0m\u001b[1;32m      2\u001b[0m \u001b[0;32mfrom\u001b[0m \u001b[0;34m.\u001b[0m\u001b[0mHeraldedCircuit_SWAP_LD\u001b[0m \u001b[0;32mimport\u001b[0m \u001b[0mHeraldedCircuit_SWAP_LD\u001b[0m\u001b[0;34m\u001b[0m\u001b[0;34m\u001b[0m\u001b[0m\n\u001b[1;32m      3\u001b[0m \u001b[0;32mfrom\u001b[0m \u001b[0;34m.\u001b[0m\u001b[0mMLE_Loss_Decoder\u001b[0m \u001b[0;32mimport\u001b[0m \u001b[0mMLE_Loss_Decoder\u001b[0m\u001b[0;34m\u001b[0m\u001b[0;34m\u001b[0m\u001b[0m\n\u001b[1;32m      4\u001b[0m \u001b[0;32mfrom\u001b[0m \u001b[0;34m.\u001b[0m\u001b[0mHeraldedCircuit_FREE_LD\u001b[0m \u001b[0;32mimport\u001b[0m \u001b[0mHeraldedCircuit_FREE_LD\u001b[0m\u001b[0;34m\u001b[0m\u001b[0;34m\u001b[0m\u001b[0m\n",
      "\u001b[0;32m~/local_erasure_biased_errors/BiasedErasure/delayed_erasure_decoders/Experimental_Loss_Decoder.py\u001b[0m in \u001b[0;36m<module>\u001b[0;34m\u001b[0m\n\u001b[1;32m      1\u001b[0m \u001b[0;32mimport\u001b[0m \u001b[0mnumpy\u001b[0m \u001b[0;32mas\u001b[0m \u001b[0mnp\u001b[0m\u001b[0;34m\u001b[0m\u001b[0;34m\u001b[0m\u001b[0m\n\u001b[0;32m----> 2\u001b[0;31m \u001b[0;32mimport\u001b[0m \u001b[0mqec\u001b[0m\u001b[0;34m\u001b[0m\u001b[0;34m\u001b[0m\u001b[0m\n\u001b[0m\u001b[1;32m      3\u001b[0m \u001b[0;32mimport\u001b[0m \u001b[0mtime\u001b[0m\u001b[0;34m\u001b[0m\u001b[0;34m\u001b[0m\u001b[0m\n\u001b[1;32m      4\u001b[0m \u001b[0;32mfrom\u001b[0m \u001b[0mBiasedErasure\u001b[0m\u001b[0;34m.\u001b[0m\u001b[0mmain_code\u001b[0m\u001b[0;34m.\u001b[0m\u001b[0mSimulator\u001b[0m \u001b[0;32mimport\u001b[0m \u001b[0;34m*\u001b[0m\u001b[0;34m\u001b[0m\u001b[0;34m\u001b[0m\u001b[0m\n\u001b[1;32m      5\u001b[0m \u001b[0;32mfrom\u001b[0m \u001b[0mBiasedErasure\u001b[0m\u001b[0;34m.\u001b[0m\u001b[0mdelayed_erasure_decoders\u001b[0m\u001b[0;34m.\u001b[0m\u001b[0mHeraldedCircuit_SWAP_LD\u001b[0m \u001b[0;32mimport\u001b[0m \u001b[0mHeraldedCircuit_SWAP_LD\u001b[0m\u001b[0;34m\u001b[0m\u001b[0;34m\u001b[0m\u001b[0m\n",
      "\u001b[0;32m~/opt/anaconda3/lib/python3.9/importlib/_bootstrap.py\u001b[0m in \u001b[0;36m_find_and_load\u001b[0;34m(name, import_)\u001b[0m\n",
      "\u001b[0;32m~/opt/anaconda3/lib/python3.9/importlib/_bootstrap.py\u001b[0m in \u001b[0;36m_find_and_load_unlocked\u001b[0;34m(name, import_)\u001b[0m\n",
      "\u001b[0;32m~/opt/anaconda3/lib/python3.9/importlib/_bootstrap.py\u001b[0m in \u001b[0;36m_load_unlocked\u001b[0;34m(spec)\u001b[0m\n",
      "\u001b[0;32m~/opt/anaconda3/lib/python3.9/importlib/_bootstrap_external.py\u001b[0m in \u001b[0;36mexec_module\u001b[0;34m(self, module)\u001b[0m\n",
      "\u001b[0;32m~/opt/anaconda3/lib/python3.9/importlib/_bootstrap_external.py\u001b[0m in \u001b[0;36mget_code\u001b[0;34m(self, fullname)\u001b[0m\n",
      "\u001b[0;32m~/opt/anaconda3/lib/python3.9/importlib/_bootstrap_external.py\u001b[0m in \u001b[0;36mget_data\u001b[0;34m(self, path)\u001b[0m\n",
      "\u001b[0;31mTimeoutError\u001b[0m: [Errno 60] Operation timed out"
     ]
    }
   ],
   "source": [
    "from BiasedErasure.delayed_erasure_decoders.Experimental_Loss_Decoder import *\n",
    "\n",
    "Meta_params = {'architecture': 'CBQC', 'code': 'Rotated_Surface', 'logical_basis': 'Z', 'bias_preserving_gates': 'False', \n",
    "        'noise': 'atom_array', 'is_erasure_biased': 'False', 'LD_freq': '1', 'LD_method': 'FREE', 'SSR': 'True', 'cycles': '2', 'ordering': 'bad', 'decoder': 'MWPM',\n",
    "        'circuit_type': 'memory', 'Steane_type': 'regular', 'printing': 'True', 'num_logicals': '1', 'loss_decoder': 'independent'}\n",
    "\n",
    "\"\"\" Meta params:\n",
    "architecture: CBQC or MBQC. For now we will choose CBQC.\n",
    "code: Rotated_Surface or Surface.\n",
    "logical_basis: X or Z\n",
    "bias_preserving_gates: True or False. False means we dont have a native CX gate and we must use H*CZ*H\n",
    "noise: always choose atom_array\n",
    "is_erasure_biased: For now it is only compatible with False. Meaning after erasure we assume a depolarizing channel.\n",
    "LD_freq: int. how often we want to do the SWAP cycles? 1 means every round, 2 means every 2 rounds and so on.\n",
    "LD_method: loss detection method. SWAP means our SWAP method. FREE means now adding anything to the circuit (for erasure conversion)\n",
    "SSR: Set True\n",
    "cycles: How many QEC cycles are they? not that we count initialization circuit as a cycle. So if you want init + 2 QEC cycles, set cycles=3\n",
    "ordering: bad or fowler. bad means same ordering for both bases X and Z\n",
    "decoder: MLE or MWPM.\n",
    "circuit_type: for now choose only memory.\n",
    "Steane_type: not relevant for now.\n",
    "printing: True or False\n",
    "num_logicals: for now choose 1.\n",
    "loss_decoder: independent or comb. For now we will use only independent (meaning every loss event is counted independently + adding a single combination of losses)\n",
    "\"\"\"\n",
    "\n",
    "# Example data, change this:\n",
    "dx = 3\n",
    "dy = 3\n",
    "output_dir = \"/Users/gefenbaranes/Documents/results\"\n",
    "num_shots = 2\n",
    "measurement_events = np.zeros((num_shots, 25), dtype=np.int64)\n",
    "detection_events_signs = np.ones((num_shots, 12))\n",
    "use_loss_decoding = False\n",
    "\n",
    "# The main function to use:\n",
    "predictions, observable_flips, dems_list = Loss_MLE_Decoder_Experiment(Meta_params, dx, dy, output_dir, measurement_events, detection_events_signs, use_loss_decoding)\n",
    "# dems_list will be a list is we use loss decoding, because for every shot we got a different DEM according to measurement events. Without any loss it will be a single DEM.\n",
    "\n",
    "\n",
    "print(predictions)\n",
    "print(dems_list)"
   ]
  },
  {
   "cell_type": "markdown",
   "metadata": {},
   "source": [
    "### Example with loss:"
   ]
  },
  {
   "cell_type": "code",
   "execution_count": 2,
   "metadata": {},
   "outputs": [
    {
     "name": "stdout",
     "output_type": "stream",
     "text": [
      "entangling Pauli error rate = None, entangling loss rate = None\n",
      "Set parameter Username\n",
      "Academic license - for non-commercial use only - expires 2025-03-24\n",
      "num of errors: 5\n"
     ]
    }
   ],
   "source": [
    "from BiasedErasure.delayed_erasure_decoders.Experimental_Loss_Decoder import *\n",
    "\n",
    "Meta_params = {'architecture': 'CBQC', 'code': 'Rotated_Surface', 'logical_basis': 'X', 'bias_preserving_gates': 'False', \n",
    "        'noise': 'atom_array', 'is_erasure_biased': 'False', 'LD_freq': '1', 'LD_method': 'FREE', 'SSR': 'True', 'cycles': '2', 'ordering': 'bad', 'decoder': 'MLE',\n",
    "        'circuit_type': 'memory', 'Steane_type': 'regular', 'printing': 'False', 'num_logicals': '1', 'loss_decoder': 'independent'}\n",
    "\n",
    "\"\"\" \n",
    "Note that for each Meta params set, first run will be slow because we are pre-processing the circuit and save the results. all next runs will be wayyy faster! :)\n",
    "\n",
    "\n",
    "Meta params:\n",
    "architecture: CBQC or MBQC. For now we will choose CBQC.\n",
    "code: Rotated_Surface or Surface.\n",
    "logical_basis: X or Z\n",
    "bias_preserving_gates: True or False. False means we dont have a native CX gate and we must use H*CZ*H\n",
    "noise: always choose atom_array\n",
    "is_erasure_biased: For now it is only compatible with False. Meaning after erasure we assume a depolarizing channel.\n",
    "LD_freq: int. how often we want to do the SWAP cycles? 1 means every round, 2 means every 2 rounds and so on.\n",
    "LD_method: loss detection method. SWAP means our SWAP method. FREE means now adding anything to the circuit (for erasure conversion)\n",
    "SSR: Set True\n",
    "cycles: How many QEC cycles are they? not that we count initialization circuit as a cycle. So if you want init + 2 QEC cycles, set cycles=3\n",
    "ordering: bad or fowler. bad means same ordering for both bases X and Z\n",
    "decoder: MLE or MWPM.\n",
    "circuit_type: for now choose only memory.\n",
    "Steane_type: not relevant for now.\n",
    "printing: True or False\n",
    "num_logicals: for now choose 1.\n",
    "loss_decoder: independent or comb. For now we will use only independent (meaning every loss event is counted independently + adding a single combination of losses)\n",
    "\"\"\"\n",
    "\n",
    "# Example data, change this:\n",
    "dx = 3\n",
    "dy=dy\n",
    "output_dir = \"/Users/gefenbaranes/Documents/results\"\n",
    "num_shots = 1000\n",
    "measurement_events = np.zeros((num_shots, 25), dtype=np.int64)\n",
    "measurement_events[0][10] = 2; measurement_events[0][11] = 2 ; measurement_events[1][9] = 2 ; measurement_events[0][6] = 2; measurement_events[1][6] = 2 # adding some loss for the example\n",
    "detection_events_signs = np.ones((num_shots, 16))\n",
    "use_loss_decoding = True\n",
    "\n",
    "# The main function to use:\n",
    "predictions, observable_flips, dems_list = Loss_MLE_Decoder_Experiment(Meta_params, dx, dy, output_dir, measurement_events, detection_events_signs, use_loss_decoding)\n",
    "# dems_list will be a list is we use loss decoding, because for every shot we got a different DEM according to measurement events. Without any loss it will be a single DEM.\n",
    "\n",
    "\n",
    "# print(predictions)\n",
    "# print(observable_flips)\n",
    "\n",
    "num_errors = np.sum(np.logical_xor(observable_flips, predictions))\n",
    "\n",
    "print(f\"num of errors: {num_errors}\")"
   ]
  },
  {
   "cell_type": "code",
   "execution_count": null,
   "metadata": {},
   "outputs": [],
   "source": []
  }
 ],
 "metadata": {
  "kernelspec": {
   "display_name": "base",
   "language": "python",
   "name": "python3"
  },
  "language_info": {
   "codemirror_mode": {
    "name": "ipython",
    "version": 3
   },
   "file_extension": ".py",
   "mimetype": "text/x-python",
   "name": "python",
   "nbconvert_exporter": "python",
   "pygments_lexer": "ipython3",
   "version": "3.9.13"
  }
 },
 "nbformat": 4,
 "nbformat_minor": 2
}
