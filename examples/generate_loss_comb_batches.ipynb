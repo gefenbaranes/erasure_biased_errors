{
 "cells": [
  {
   "cell_type": "code",
   "execution_count": 18,
   "metadata": {},
   "outputs": [],
   "source": [
    "import numpy as np\n",
    "from matplotlib import pyplot as plt\n",
    "import torch\n",
    "from BiasedErasure.delayed_erasure_decoders.Experimental_Loss_Decoder import *\n",
    "from BiasedErasure.main_code.Simulator import *\n",
    "from BiasedErasure.main_code.noise_channels import atom_array\n",
    "from BiasedErasure.delayed_erasure_decoders.HeraldedCircuit_SWAP_LD import HeraldedCircuit_SWAP_LD\n"
   ]
  },
  {
   "cell_type": "code",
   "execution_count": 19,
   "metadata": {},
   "outputs": [
    {
     "name": "stdout",
     "output_type": "stream",
     "text": [
      "The autoreload extension is already loaded. To reload it, use:\n",
      "  %reload_ext autoreload\n",
      "{}\n",
      "entangling Pauli error rate = None, entangling loss rate = None\n",
      "Using orderings: ['N', 'Z', 'Zr', 'Nr']\n"
     ]
    },
    {
     "ename": "",
     "evalue": "",
     "output_type": "error",
     "traceback": [
      "\u001b[1;31mThe Kernel crashed while executing code in the current cell or a previous cell. \n",
      "\u001b[1;31mPlease review the code in the cell(s) to identify a possible cause of the failure. \n",
      "\u001b[1;31mClick <a href='https://aka.ms/vscodeJupyterKernelCrash'>here</a> for more info. \n",
      "\u001b[1;31mView Jupyter <a href='command:jupyter.viewOutput'>log</a> for further details."
     ]
    }
   ],
   "source": [
    "%load_ext autoreload\n",
    "%autoreload 2\n",
    "\n",
    "def simulate(noise_params={}, num_of_losses=1, batch_index=0, distance=5, printing=False):\n",
    "    cycles = 4\n",
    "    decoder_basis = 'Z'\n",
    "    num_rounds = 5\n",
    "    gate_ordering = ['N', 'Z', 'Zr', 'Nr']\n",
    "    Meta_params = {'architecture': 'CBQC', 'code': 'Rotated_Surface', 'logical_basis': decoder_basis, 'bias_preserving_gates': 'False', \n",
    "        'noise': 'atom_array', 'is_erasure_biased': 'False', 'LD_freq': '1000', 'LD_method': 'None', 'SSR': 'True', 'cycles': str(num_rounds - 1),\n",
    "            'ordering': gate_ordering,\n",
    "            'decoder': 'ML',\n",
    "        'circuit_type': 'memory', 'Steane_type': 'regular', 'printing': str(printing), 'num_logicals': '1', 'loss_decoder': 'independent', 'obs_pos': 'd-1', 'n_r': '0'}\n",
    "    bloch_point_params = {'erasure_ratio': '1', 'bias_ratio': '0.5'}\n",
    "    \n",
    "    print(noise_params)\n",
    "    dx = distance\n",
    "    dy = distance\n",
    "    num_of_losses = 4\n",
    "    batch_index = 2\n",
    "    output_dir =  \"/Users/gefenbaranes/Lukin SiV Dropbox/Gefen Baranes/RepetitiveQEC/Analysis/Data/July2024_repetitiveQEC_preprocessing/d%i/r%i/%s/final_data\"%(distance,num_rounds - 1,decoder_basis)\n",
    "    preprocess_comb_batches(Meta_params, dx, dy, output_dir, num_of_losses, batch_index)\n",
    "    \n",
    "    \n",
    "simulate(noise_params={}, num_of_losses=1, batch_index=0, distance=5, printing=False)\n",
    "    "
   ]
  },
  {
   "cell_type": "code",
   "execution_count": null,
   "metadata": {},
   "outputs": [],
   "source": []
  }
 ],
 "metadata": {
  "kernelspec": {
   "display_name": "py39",
   "language": "python",
   "name": "python3"
  },
  "language_info": {
   "codemirror_mode": {
    "name": "ipython",
    "version": 3
   },
   "file_extension": ".py",
   "mimetype": "text/x-python",
   "name": "python",
   "nbconvert_exporter": "python",
   "pygments_lexer": "ipython3",
   "version": "3.9.13"
  },
  "orig_nbformat": 4
 },
 "nbformat": 4,
 "nbformat_minor": 2
}
